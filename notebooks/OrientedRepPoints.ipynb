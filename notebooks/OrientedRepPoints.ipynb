{
 "cells": [
  {
   "cell_type": "markdown",
   "metadata": {
    "collapsed": true,
    "pycharm": {
     "name": "#%% md\n"
    }
   },
   "source": [
    "# Oriented RepPoints\n",
    "\n",
    "* Official code uses MMDetection.\n",
    "* MMDetection models are built from config files - example for [Oriented RepPoints](https://github.com/LiWentomng/OrientedRepPoints/blob/main/configs/dota/orientedreppoints_r50.py).\n",
    "* From this config file, it can be notices the these modules are used:\n",
    "    * [`OrientedRepPointsDetector`](https://github.com/LiWentomng/OrientedRepPoints/blob/main/mmdet/models/oriented_detectors/orientedreppoints_detector.py)\n",
    "    * [`OrientedRepPointsHead`](https://github.com/LiWentomng/OrientedRepPoints/blob/main/mmdet/models/dense_heads/orientedreppoints_head.py)\n",
    "    * [`OBBPointAssigner`](https://github.com/LiWentomng/OrientedRepPoints/blob/main/mmdet/core/bbox/assigners/oriented_point_assigner.py)\n",
    "    * [`OBBMaxIoUAssigner`](https://github.com/LiWentomng/OrientedRepPoints/blob/main/mmdet/core/bbox/assigners/oriented_max_iou_assigner.py)\n",
    "    * [`FocalLoss`](https://github.com/LiWentomng/OrientedRepPoints/blob/main/mmdet/models/losses/focal_loss.py)\n",
    "    * [`OBBGIoULoss`](https://github.com/LiWentomng/OrientedRepPoints/blob/main/mmdet/models/losses/iou_loss.py)\n",
    "    * [`SpatialBorderLoss`](https://github.com/LiWentomng/OrientedRepPoints/blob/main/mmdet/models/losses/spatial_border_loss.py)"
   ]
  },
  {
   "cell_type": "markdown",
   "source": [
    "## Check Project's Implementation"
   ],
   "metadata": {
    "collapsed": false,
    "pycharm": {
     "name": "#%% md\n"
    }
   }
  },
  {
   "cell_type": "code",
   "execution_count": 39,
   "outputs": [
    {
     "name": "stdout",
     "output_type": "stream",
     "text": [
      "\n",
      "feature map P2 with stride = 4:\n",
      "\tfeature_map.shape = torch.Size([1, 256, 128, 128])\n",
      "\trep_points1.shape = torch.Size([1, 18, 128, 128])\n",
      "\trep_points2.shape = torch.Size([1, 18, 128, 128])\n",
      "\tclassification.shape = torch.Size([1, 15, 128, 128])\n",
      "\n",
      "feature map P3 with stride = 8:\n",
      "\tfeature_map.shape = torch.Size([1, 256, 64, 64])\n",
      "\trep_points1.shape = torch.Size([1, 18, 64, 64])\n",
      "\trep_points2.shape = torch.Size([1, 18, 64, 64])\n",
      "\tclassification.shape = torch.Size([1, 15, 64, 64])\n",
      "\n",
      "feature map P4 with stride = 16:\n",
      "\tfeature_map.shape = torch.Size([1, 256, 32, 32])\n",
      "\trep_points1.shape = torch.Size([1, 18, 32, 32])\n",
      "\trep_points2.shape = torch.Size([1, 18, 32, 32])\n",
      "\tclassification.shape = torch.Size([1, 15, 32, 32])\n",
      "\n",
      "feature map P5 with stride = 32:\n",
      "\tfeature_map.shape = torch.Size([1, 256, 16, 16])\n",
      "\trep_points1.shape = torch.Size([1, 18, 16, 16])\n",
      "\trep_points2.shape = torch.Size([1, 18, 16, 16])\n",
      "\tclassification.shape = torch.Size([1, 15, 16, 16])\n"
     ]
    }
   ],
   "source": [
    "import torch\n",
    "from model.oriented_reppoints import OrientedRepPointsHead\n",
    "\n",
    "img_h, img_w = (512, 512)\n",
    "strides = {'P2': 4, 'P3': 8, 'P4': 16, 'P5': 32}\n",
    "feature_maps = {name: torch.rand(1, 256, img_h // stride, img_w // stride) for name, stride in strides.items()}\n",
    "\n",
    "rotated_RepPoints_head = OrientedRepPointsHead()\n",
    "\n",
    "for name, feature_map in feature_maps.items():\n",
    "    rep_points1, rep_points2, classification = rotated_RepPoints_head(feature_map)\n",
    "    print('\\n\\t'.join([\n",
    "        f'\\nfeature map {name} with stride = {strides[name]}:',\n",
    "        f'{feature_map.shape = }',\n",
    "        f'{rep_points1.shape = }',\n",
    "        f'{rep_points2.shape = }',\n",
    "        f'{classification.shape = }'\n",
    "    ]))"
   ],
   "metadata": {
    "collapsed": false,
    "pycharm": {
     "name": "#%%\n"
    }
   }
  }
 ],
 "metadata": {
  "kernelspec": {
   "display_name": "Python 3",
   "language": "python",
   "name": "python3"
  },
  "language_info": {
   "codemirror_mode": {
    "name": "ipython",
    "version": 2
   },
   "file_extension": ".py",
   "mimetype": "text/x-python",
   "name": "python",
   "nbconvert_exporter": "python",
   "pygments_lexer": "ipython2",
   "version": "2.7.6"
  }
 },
 "nbformat": 4,
 "nbformat_minor": 0
}